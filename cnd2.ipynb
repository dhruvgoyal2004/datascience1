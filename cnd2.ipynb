{
 "cells": [
  {
   "cell_type": "markdown",
   "id": "18b03fb7-cbfd-4172-92af-a0f31b91bf09",
   "metadata": {},
   "source": [
    "## BOOLEANS"
   ]
  },
  {
   "cell_type": "code",
   "execution_count": 5,
   "id": "6fbf3add-fab1-4db0-ae39-60bc9898d3e5",
   "metadata": {},
   "outputs": [
    {
     "data": {
      "text/plain": [
       "bool"
      ]
     },
     "execution_count": 5,
     "metadata": {},
     "output_type": "execute_result"
    }
   ],
   "source": [
    "a = True\n",
    "b = False\n",
    "#c = true not a keyword cap only\n",
    "type(a)"
   ]
  },
  {
   "cell_type": "markdown",
   "id": "9d40036a-9f2c-48c3-bab9-33e45bc83bf1",
   "metadata": {},
   "source": [
    "## RELATIONAL OPERATORS"
   ]
  },
  {
   "cell_type": "code",
   "execution_count": 2,
   "id": "dd4e07a7-7e3c-4648-965b-d7df7d832c88",
   "metadata": {},
   "outputs": [
    {
     "name": "stdout",
     "output_type": "stream",
     "text": [
      "False\n",
      "True\n",
      "False\n",
      "True\n",
      "False\n",
      "True\n"
     ]
    }
   ],
   "source": [
    "a = 10\n",
    "b = 20\n",
    "print(a==b)\n",
    "print(a<b)\n",
    "print(a>b)\n",
    "print(a<=b)\n",
    "print(a>=b)\n",
    "print(a!=b)"
   ]
  },
  {
   "cell_type": "markdown",
   "id": "f22599b9-106e-47e1-b8a8-5f747c3ef46c",
   "metadata": {},
   "source": [
    "## LOGICAL OPERATOR"
   ]
  },
  {
   "cell_type": "code",
   "execution_count": 3,
   "id": "c24af980-9dd7-4cea-a213-a0fd164da26b",
   "metadata": {},
   "outputs": [
    {
     "name": "stdout",
     "output_type": "stream",
     "text": [
      "False True True\n"
     ]
    }
   ],
   "source": [
    "c1 = a > 10\n",
    "c2 = b > 10\n",
    "r1 = c1 and c2\n",
    "r2 = c1 or c2\n",
    "r3 = not(c1)\n",
    "print(r1, r2, r3)"
   ]
  },
  {
   "cell_type": "markdown",
   "id": "72beb592-3e04-4256-af91-0b362dc4c8b2",
   "metadata": {},
   "source": [
    "## IF-ELSE"
   ]
  },
  {
   "cell_type": "code",
   "execution_count": 6,
   "id": "f1c870b2-13fe-4287-92c5-6f5650d50fa7",
   "metadata": {},
   "outputs": [
    {
     "name": "stdout",
     "output_type": "stream",
     "text": [
      "else executed\n"
     ]
    }
   ],
   "source": [
    "a = False\n",
    "if a:\n",
    "    print(\"if executed\")\n",
    "else:\n",
    "    print(\"else executed\")"
   ]
  },
  {
   "cell_type": "code",
   "execution_count": 17,
   "id": "c7710cf9-b8f1-4e0b-9b59-09261f18dced",
   "metadata": {},
   "outputs": [
    {
     "name": "stdin",
     "output_type": "stream",
     "text": [
      " 3\n"
     ]
    },
    {
     "name": "stdout",
     "output_type": "stream",
     "text": [
      "odd\n"
     ]
    }
   ],
   "source": [
    "#odd or even \n",
    "a = int(input())\n",
    "if a%2 == 0:\n",
    "    print(\"even\")\n",
    "else:\n",
    "    print(\"odd\")"
   ]
  },
  {
   "cell_type": "code",
   "execution_count": 23,
   "id": "258633f5-98f9-4fdf-af77-ebdfd7810145",
   "metadata": {},
   "outputs": [
    {
     "name": "stdout",
     "output_type": "stream",
     "text": [
      "too low\n"
     ]
    }
   ],
   "source": [
    "n = 10\n",
    "\n",
    "if n >= 1 and n <= 10:\n",
    "    print(\"too low\")\n",
    "elif n >= 10 and n <= 20:\n",
    "    print(\"medium\")\n",
    "elif n >= 20 and n <= 30:\n",
    "    print(\"large\")\n",
    "else:\n",
    "    print(\"too large\")"
   ]
  },
  {
   "cell_type": "code",
   "execution_count": 28,
   "id": "82d5ee98-cf7a-4bdd-99f4-f61da64e2418",
   "metadata": {},
   "outputs": [
    {
     "name": "stdin",
     "output_type": "stream",
     "text": [
      " 2\n",
      " 3\n"
     ]
    },
    {
     "name": "stdout",
     "output_type": "stream",
     "text": [
      "no\n"
     ]
    }
   ],
   "source": [
    "## 2 nos if both > 10 print yes else no\n",
    "a = int (input())\n",
    "b = int (input())\n",
    "if (a>10 and b>10):\n",
    "    print(\"yes\")\n",
    "else:\n",
    "    print(\"no\")"
   ]
  },
  {
   "cell_type": "code",
   "execution_count": 46,
   "id": "874a2bfc-17b8-435a-a3ef-366c7547b89c",
   "metadata": {},
   "outputs": [
    {
     "name": "stdin",
     "output_type": "stream",
     "text": [
      " 5\n"
     ]
    },
    {
     "name": "stdout",
     "output_type": "stream",
     "text": [
      "no\n"
     ]
    }
   ],
   "source": [
    "# if 7 then yes else no\n",
    "a = int(input())\n",
    "if a == 7:\n",
    "    print(\"yes\")\n",
    "else: \n",
    "    print(\"no\")"
   ]
  },
  {
   "cell_type": "code",
   "execution_count": 55,
   "id": "ead215c4-3599-4118-b223-a8a14bedb84a",
   "metadata": {},
   "outputs": [
    {
     "name": "stdin",
     "output_type": "stream",
     "text": [
      " 3\n",
      " 3\n",
      " 1\n"
     ]
    },
    {
     "name": "stdout",
     "output_type": "stream",
     "text": [
      "1\n"
     ]
    }
   ],
   "source": [
    "a = int(input())\n",
    "b = int(input())\n",
    "c = int(input())\n",
    "if   a>b and a>c:\n",
    "    print(a)\n",
    "elif b>c and b>a:\n",
    "    print(b)\n",
    "else:\n",
    "    print(c)"
   ]
  },
  {
   "cell_type": "code",
   "execution_count": 5,
   "id": "9105edfa-c906-4ccf-be1a-174b67cc2dac",
   "metadata": {},
   "outputs": [
    {
     "name": "stdin",
     "output_type": "stream",
     "text": [
      " 2\n",
      " 2\n"
     ]
    },
    {
     "name": "stdout",
     "output_type": "stream",
     "text": [
      "1\n"
     ]
    }
   ],
   "source": [
    "n = int(input())\n",
    "m = int(input())\n",
    "if n%2 == 0:\n",
    "        if m%2 == 0:\n",
    "            print(\"1\")\n",
    "        else:\n",
    "            print(\"2\")\n",
    "else:\n",
    "        print(\"3\")"
   ]
  },
  {
   "cell_type": "code",
   "execution_count": null,
   "id": "54c624b6-f4a5-4390-84f6-a9cb31621ece",
   "metadata": {},
   "outputs": [],
   "source": [
    "![12. Conditional Question.png](attachment:a83f7891-55d8-4184-87bf-abc19a3b558a.png)"
   ]
  },
  {
   "cell_type": "markdown",
   "id": "287578b7-7712-4cf5-9cc9-3c6c48ea62df",
   "metadata": {},
   "source": [
    "## LOOPS"
   ]
  },
  {
   "cell_type": "code",
   "execution_count": 10,
   "id": "487d0f6e-bae9-4279-b76b-c2c285d37ba4",
   "metadata": {},
   "outputs": [
    {
     "name": "stdin",
     "output_type": "stream",
     "text": [
      " 3\n"
     ]
    },
    {
     "name": "stdout",
     "output_type": "stream",
     "text": [
      "1\n",
      "1\n",
      "1\n"
     ]
    }
   ],
   "source": [
    "# print 1 n times\n",
    "n = int(input())\n",
    "i = 1\n",
    "while i <= n:\n",
    "    print(\"1\")\n",
    "    i = i + 1"
   ]
  },
  {
   "cell_type": "code",
   "execution_count": 16,
   "id": "bc42a00c-463f-4dd6-a491-0ba46ee36dd1",
   "metadata": {},
   "outputs": [
    {
     "name": "stdin",
     "output_type": "stream",
     "text": [
      " 10\n"
     ]
    },
    {
     "name": "stdout",
     "output_type": "stream",
     "text": [
      "1\n",
      "2\n",
      "3\n",
      "4\n",
      "5\n",
      "6\n",
      "7\n",
      "8\n",
      "9\n",
      "10\n"
     ]
    }
   ],
   "source": [
    "#print first n natural nos\n",
    "a = int(input())\n",
    "i = 1\n",
    "while i <= a:\n",
    "    print(i)\n",
    "    i = i + 1"
   ]
  },
  {
   "cell_type": "code",
   "execution_count": 33,
   "id": "fcee605a-08dc-4cb5-8b56-316f7b11b7de",
   "metadata": {},
   "outputs": [
    {
     "name": "stdin",
     "output_type": "stream",
     "text": [
      " 10\n"
     ]
    },
    {
     "name": "stdout",
     "output_type": "stream",
     "text": [
      "55\n"
     ]
    }
   ],
   "source": [
    "#sum of n natural numers \n",
    "n = int(input())\n",
    "a = 0\n",
    "i = 1\n",
    "while i <= n:\n",
    "    a = a + i\n",
    "    i = i + 1\n",
    "print(a)"
   ]
  },
  {
   "cell_type": "code",
   "execution_count": 1,
   "id": "1c5be9c7-0209-4c69-9f38-eff45f90429b",
   "metadata": {},
   "outputs": [
    {
     "name": "stdin",
     "output_type": "stream",
     "text": [
      " 4\n"
     ]
    },
    {
     "name": "stdout",
     "output_type": "stream",
     "text": [
      "6\n"
     ]
    }
   ],
   "source": [
    "#sum of even nos\n",
    "n = int(input())\n",
    "i = 2\n",
    "a = 0\n",
    "while i <= n:\n",
    "    a = a + i\n",
    "    i = i + 2\n",
    "print(a)\n",
    "    "
   ]
  },
  {
   "cell_type": "code",
   "execution_count": 3,
   "id": "31434431-7183-4a23-b3e7-e0199fd078b4",
   "metadata": {},
   "outputs": [
    {
     "name": "stdin",
     "output_type": "stream",
     "text": [
      " 49\n"
     ]
    },
    {
     "name": "stdout",
     "output_type": "stream",
     "text": [
      "Comp\n"
     ]
    }
   ],
   "source": [
    "#check no is prime or not\n",
    "a = int(input())\n",
    "i = 2\n",
    "while i < a:\n",
    "    if a % i == 0:\n",
    "        print(\"Comp\")\n",
    "        break\n",
    "    i = i + 1\n",
    "else:\n",
    "    print(\"prime\")"
   ]
  },
  {
   "cell_type": "code",
   "execution_count": 55,
   "id": "eb12796a-a50c-431e-8e3e-8cea81aefa7e",
   "metadata": {},
   "outputs": [],
   "source": [
    "#print n prime nos\n"
   ]
  },
  {
   "cell_type": "code",
   "execution_count": 3,
   "id": "658d34a7-e33d-403e-961d-513d867a1ebb",
   "metadata": {},
   "outputs": [
    {
     "name": "stdin",
     "output_type": "stream",
     "text": [
      " 145\n"
     ]
    },
    {
     "name": "stdout",
     "output_type": "stream",
     "text": [
      "541"
     ]
    }
   ],
   "source": [
    "#reverse a no can also be done by string slicing\n",
    "n = int(input())\n",
    "while n > 0:\n",
    "    a = n % 10\n",
    "    print(a, end=\"\") #345\n",
    "    n = n // 10  \n",
    "    "
   ]
  },
  {
   "cell_type": "code",
   "execution_count": 14,
   "id": "20752bd3-bde2-49f1-a93c-e4465aa02a67",
   "metadata": {},
   "outputs": [
    {
     "name": "stdin",
     "output_type": "stream",
     "text": [
      " 345\n"
     ]
    },
    {
     "name": "stdout",
     "output_type": "stream",
     "text": [
      "5None\n",
      "4None\n",
      "3None\n"
     ]
    }
   ],
   "source": [
    "#check for palindrome\n",
    "n = int(input())\n",
    "while n > 0:\n",
    "    a = n % 10\n",
    "    print(a, end=\"\") #345\n",
    "    n = n // 10"
   ]
  },
  {
   "cell_type": "code",
   "execution_count": 8,
   "id": "53425c53-566b-4a49-9f9c-88576d740f42",
   "metadata": {},
   "outputs": [
    {
     "name": "stdin",
     "output_type": "stream",
     "text": [
      " 5\n"
     ]
    },
    {
     "name": "stdout",
     "output_type": "stream",
     "text": [
      "1\n",
      "1\n",
      "2\n",
      "3\n",
      "5\n",
      "8\n",
      "13\n",
      "21\n",
      "34\n",
      "55\n"
     ]
    }
   ],
   "source": [
    "#fibonachi n is not comming correct\n",
    "n = int(input())\n",
    "i = 0\n",
    "a = 1\n",
    "b = 1\n",
    "for i in range(i , n):  \n",
    "    print(a)\n",
    "    print(b)\n",
    "    a = a + b\n",
    "    b = b + a \n",
    "    "
   ]
  },
  {
   "cell_type": "code",
   "execution_count": 16,
   "id": "0fb0eede-7d0a-402b-a428-48cf7d10e47f",
   "metadata": {},
   "outputs": [
    {
     "name": "stdin",
     "output_type": "stream",
     "text": [
      " 10\n"
     ]
    },
    {
     "name": "stdout",
     "output_type": "stream",
     "text": [
      "1\n",
      "1\n",
      "2\n",
      "3\n",
      "5\n",
      "8\n",
      "13\n",
      "21\n",
      "34\n",
      "55\n"
     ]
    }
   ],
   "source": [
    "#fibonachi 1 1 2 3 5 8 13.....\n",
    "n = int(input())\n",
    "a = 1\n",
    "b = 1\n",
    "for i in range(n):  \n",
    "    print(a)\n",
    "    a, b = b, a+b\n",
    "    "
   ]
  },
  {
   "cell_type": "markdown",
   "id": "56437017-1f3c-4fe4-b5ba-5b53b402e3f3",
   "metadata": {},
   "source": [
    "## PATTERNS"
   ]
  },
  {
   "cell_type": "markdown",
   "id": "8be37f36-60f3-469f-850d-6b76aa94b545",
   "metadata": {},
   "source": [
    "****\n",
    "****\n",
    "****\n",
    "****"
   ]
  },
  {
   "cell_type": "code",
   "execution_count": 40,
   "id": "8f1b8f8c-6a6f-4d0a-84cc-7818c90d5a4e",
   "metadata": {},
   "outputs": [
    {
     "name": "stdin",
     "output_type": "stream",
     "text": [
      " 4\n"
     ]
    },
    {
     "name": "stdout",
     "output_type": "stream",
     "text": [
      "* * * * \n",
      "* * * * \n",
      "* * * * \n",
      "* * * * \n"
     ]
    }
   ],
   "source": [
    "n = int(input())\n",
    "i = 1\n",
    "while i <= n:\n",
    "    j = 1\n",
    "    while j <= n:\n",
    "        print(\"*\",end=\" \")\n",
    "        j = j + 1\n",
    "    print()\n",
    "    i = i + 1"
   ]
  },
  {
   "cell_type": "markdown",
   "id": "8785520c-041e-424e-a0c8-b96614b61393",
   "metadata": {},
   "source": [
    "1234\n",
    "1234\n",
    "1234\n",
    "1234"
   ]
  },
  {
   "cell_type": "code",
   "execution_count": 67,
   "id": "8881e1ac-ccd0-4372-8d92-874d4db63bfc",
   "metadata": {},
   "outputs": [
    {
     "name": "stdin",
     "output_type": "stream",
     "text": [
      " 4\n"
     ]
    },
    {
     "name": "stdout",
     "output_type": "stream",
     "text": [
      "1 2 3 4 \n",
      "1 2 3 4 \n",
      "1 2 3 4 \n",
      "1 2 3 4 \n"
     ]
    }
   ],
   "source": [
    "n = int(input())\n",
    "i = 1\n",
    "while i <= n:\n",
    "    j = 1\n",
    "    while j <= n:\n",
    "        print(j, end=\" \")\n",
    "        j = j + 1\n",
    "    print()\n",
    "    i = i + 1\n"
   ]
  },
  {
   "cell_type": "markdown",
   "id": "a95d9e36-406b-4d43-9777-d99aece0a01f",
   "metadata": {},
   "source": [
    "1111\n",
    "2222\n",
    "3333\n",
    "4444"
   ]
  },
  {
   "cell_type": "code",
   "execution_count": 64,
   "id": "d863cf71-46e8-4b2f-a43b-586f8a4622e6",
   "metadata": {},
   "outputs": [
    {
     "name": "stdin",
     "output_type": "stream",
     "text": [
      " 4\n"
     ]
    },
    {
     "name": "stdout",
     "output_type": "stream",
     "text": [
      "1 1 1 1 \n",
      "2 2 2 2 \n",
      "3 3 3 3 \n",
      "4 4 4 4 \n"
     ]
    }
   ],
   "source": [
    "n = int(input())\n",
    "i = 1\n",
    "while i <= n:\n",
    "    j = 1\n",
    "    while j <= n:\n",
    "        print(i, end=\" \")\n",
    "        j = j + 1\n",
    "    print()\n",
    "    i = i + 1"
   ]
  },
  {
   "cell_type": "markdown",
   "id": "a7949bf5-ef6c-40cd-b356-1baf98b38020",
   "metadata": {},
   "source": [
    "4321\n",
    "4321\n",
    "4321\n",
    "4321"
   ]
  },
  {
   "cell_type": "code",
   "execution_count": 1,
   "id": "cfe80672-2078-4a06-8f2b-7ea152fd0976",
   "metadata": {},
   "outputs": [
    {
     "name": "stdin",
     "output_type": "stream",
     "text": [
      " 4\n"
     ]
    },
    {
     "name": "stdout",
     "output_type": "stream",
     "text": [
      "4 3 2 1 \n",
      "4 3 2 1 \n",
      "4 3 2 1 \n",
      "4 3 2 1 \n"
     ]
    }
   ],
   "source": [
    "n = int(input())\n",
    "i = 1\n",
    "while i <= n:\n",
    "    j = 1\n",
    "    while j <= n:\n",
    "        print(n - j + 1, end=\" \")\n",
    "        j = j + 1\n",
    "    print()\n",
    "    i = i + 1"
   ]
  },
  {
   "cell_type": "markdown",
   "id": "1106bcdc-f4e2-417a-a8a8-36504e4b6811",
   "metadata": {},
   "source": [
    "## MORE ON LOOPS"
   ]
  },
  {
   "cell_type": "markdown",
   "id": "909fc3be-46e9-412a-a254-73e88dc52241",
   "metadata": {},
   "source": [
    "for i in x \n",
    "here x will be a sequence maybe string maybe array list\n",
    "collection of multiple things in one place"
   ]
  },
  {
   "cell_type": "code",
   "execution_count": null,
   "id": "9f7a7d4d-5af7-4163-92c0-2d6c86273155",
   "metadata": {},
   "outputs": [],
   "source": []
  },
  {
   "cell_type": "code",
   "execution_count": null,
   "id": "444ae351-8247-46a6-92a7-bf7c8141a579",
   "metadata": {},
   "outputs": [],
   "source": []
  },
  {
   "cell_type": "code",
   "execution_count": null,
   "id": "fa79189b-7892-4b7e-874b-07e39333b9ab",
   "metadata": {},
   "outputs": [],
   "source": []
  },
  {
   "cell_type": "code",
   "execution_count": null,
   "id": "6e9b0112-d0ce-4ce4-ab71-692a7d46dfa0",
   "metadata": {},
   "outputs": [],
   "source": []
  },
  {
   "cell_type": "code",
   "execution_count": null,
   "id": "ba4c3780-9bfb-4e5e-9364-fa5e0440cda4",
   "metadata": {},
   "outputs": [],
   "source": []
  },
  {
   "cell_type": "code",
   "execution_count": null,
   "id": "0da9a315-353b-41bb-b6bf-7ecd2ef61620",
   "metadata": {},
   "outputs": [],
   "source": []
  },
  {
   "cell_type": "code",
   "execution_count": null,
   "id": "e2342c06-c152-436e-be11-a9705278a9d6",
   "metadata": {},
   "outputs": [],
   "source": []
  },
  {
   "cell_type": "code",
   "execution_count": null,
   "id": "476fc024-cbc7-4d31-87ab-ed220060fe95",
   "metadata": {},
   "outputs": [],
   "source": []
  },
  {
   "cell_type": "code",
   "execution_count": null,
   "id": "cf35a3b7-c0da-49fb-843a-ee183146f7f3",
   "metadata": {},
   "outputs": [],
   "source": []
  },
  {
   "cell_type": "code",
   "execution_count": null,
   "id": "1605ba85-3d33-45e7-8fce-6d771d4213f2",
   "metadata": {},
   "outputs": [],
   "source": []
  },
  {
   "cell_type": "code",
   "execution_count": null,
   "id": "9f142251-3cb3-49f8-ac8c-3277169d2680",
   "metadata": {},
   "outputs": [],
   "source": []
  },
  {
   "cell_type": "code",
   "execution_count": null,
   "id": "2775b62c-75dc-4dbf-8b24-41b48f3582d3",
   "metadata": {},
   "outputs": [],
   "source": []
  },
  {
   "cell_type": "code",
   "execution_count": null,
   "id": "e68c0aa6-691d-4aa3-b5ee-cf1ab1df9666",
   "metadata": {},
   "outputs": [],
   "source": []
  },
  {
   "cell_type": "markdown",
   "id": "d5a19ef8-1e4e-4b59-a8d8-33f02f5e5405",
   "metadata": {},
   "source": [
    "## OOPS\n"
   ]
  },
  {
   "cell_type": "code",
   "execution_count": 4,
   "id": "b3e7429f-4e4b-474f-a3a2-a794cba0d843",
   "metadata": {},
   "outputs": [],
   "source": [
    "class Student :\n",
    "    pass\n",
    "    \n",
    "s1 = Student()\n",
    "s2 = Student()\n",
    "s3 = Student()\n"
   ]
  },
  {
   "cell_type": "code",
   "execution_count": 33,
   "id": "8afd635a-d735-48ca-919f-76648f0a632b",
   "metadata": {},
   "outputs": [],
   "source": [
    "s1.name = \"mohit\"\n",
    "s1.age = 20"
   ]
  },
  {
   "cell_type": "code",
   "execution_count": 6,
   "id": "ef945b11-e1d0-4bac-a601-51261eabf438",
   "metadata": {},
   "outputs": [],
   "source": [
    "s2.rollno = 101"
   ]
  },
  {
   "cell_type": "code",
   "execution_count": 7,
   "id": "442ec4db-c5ab-484a-a27f-38b722ae49d5",
   "metadata": {},
   "outputs": [],
   "source": [
    "s3.age = 21"
   ]
  },
  {
   "cell_type": "code",
   "execution_count": 11,
   "id": "e1641541-3774-4f37-afc3-bea954d488eb",
   "metadata": {},
   "outputs": [
    {
     "name": "stdout",
     "output_type": "stream",
     "text": [
      "{'name': 'mohit', 'age': 20}\n",
      "{'rollno': 101}\n",
      "{'age': 21}\n"
     ]
    }
   ],
   "source": [
    "print(s1.__dict__)\n",
    "print(s2.__dict__)\n",
    "print(s3.__dict__)\n"
   ]
  },
  {
   "cell_type": "code",
   "execution_count": 12,
   "id": "a2cc6828-45f6-4a07-a1e1-2225056fe0bf",
   "metadata": {},
   "outputs": [],
   "source": [
    "s4 = Student()"
   ]
  },
  {
   "cell_type": "code",
   "execution_count": 15,
   "id": "99842ea0-3fb2-4d57-b5da-e0b670390a32",
   "metadata": {},
   "outputs": [
    {
     "name": "stdout",
     "output_type": "stream",
     "text": [
      "{}\n"
     ]
    }
   ],
   "source": [
    "print(s4.__dict__) #empty"
   ]
  },
  {
   "cell_type": "code",
   "execution_count": 19,
   "id": "a85c62e7-886b-4c49-a105-854b71adbf7c",
   "metadata": {},
   "outputs": [
    {
     "name": "stdout",
     "output_type": "stream",
     "text": [
      "mohit\n"
     ]
    },
    {
     "ename": "AttributeError",
     "evalue": "'Student' object has no attribute 'name'",
     "output_type": "error",
     "traceback": [
      "\u001b[1;31m---------------------------------------------------------------------------\u001b[0m",
      "\u001b[1;31mAttributeError\u001b[0m                            Traceback (most recent call last)",
      "Cell \u001b[1;32mIn[19], line 2\u001b[0m\n\u001b[0;32m      1\u001b[0m \u001b[38;5;28mprint\u001b[39m(s1\u001b[38;5;241m.\u001b[39mname)\n\u001b[1;32m----> 2\u001b[0m \u001b[38;5;28mprint\u001b[39m(s2\u001b[38;5;241m.\u001b[39mname)\n",
      "\u001b[1;31mAttributeError\u001b[0m: 'Student' object has no attribute 'name'"
     ]
    }
   ],
   "source": [
    "print(s1.name)\n",
    "print(s2.name) #gives error"
   ]
  },
  {
   "cell_type": "markdown",
   "id": "5b3744de-c188-4897-8ac8-3eb011574e63",
   "metadata": {},
   "source": [
    "4 func \n",
    "hasattr(obj, attr)\n",
    "setattr(obj, attr, val)\n",
    "delattr(obj, attr)\n",
    "getattr(obj, attr, def_value) if no attr is present then def value get printed\n",
    "usage below -"
   ]
  },
  {
   "cell_type": "code",
   "execution_count": 24,
   "id": "083405ab-4731-49b7-a7fd-daefefb8d15b",
   "metadata": {},
   "outputs": [
    {
     "name": "stdout",
     "output_type": "stream",
     "text": [
      "True\n"
     ]
    }
   ],
   "source": [
    "print(hasattr(s1, \"name\"))"
   ]
  },
  {
   "cell_type": "code",
   "execution_count": 35,
   "id": "07bcf276-78a4-445a-b475-1b03c2ee08ee",
   "metadata": {},
   "outputs": [],
   "source": [
    "setattr(s1, \"section\", \"F1\")\n"
   ]
  },
  {
   "cell_type": "code",
   "execution_count": 39,
   "id": "69c62a72-3883-4ad4-bd90-3f909a53c201",
   "metadata": {},
   "outputs": [
    {
     "name": "stdout",
     "output_type": "stream",
     "text": [
      "{'name': 'mohit', 'age': 20, 'classt': 222, 'section': 'F1'}\n"
     ]
    }
   ],
   "source": [
    "print(s1.__dict__)\n"
   ]
  },
  {
   "cell_type": "code",
   "execution_count": 41,
   "id": "39f3f17e-f2e7-42b8-963f-ad12cfe002d4",
   "metadata": {},
   "outputs": [
    {
     "name": "stdout",
     "output_type": "stream",
     "text": [
      "{'__module__': '__main__', '__dict__': <attribute '__dict__' of 'Student' objects>, '__weakref__': <attribute '__weakref__' of 'Student' objects>, '__doc__': None, 'totalStudents': 40}\n"
     ]
    }
   ],
   "source": [
    "#for class aqttributes \n",
    "Student.totalStudents = 40\n",
    "print(Student.__dict__)\n",
    "#or by directly declaring var = val under class name"
   ]
  },
  {
   "cell_type": "markdown",
   "id": "79801cf8-12de-47a6-aad1-b2a31eaf6a39",
   "metadata": {},
   "source": []
  },
  {
   "cell_type": "code",
   "execution_count": null,
   "id": "885bcb39-994f-48bd-89a0-47f2b6aaae6f",
   "metadata": {},
   "outputs": [],
   "source": []
  },
  {
   "cell_type": "code",
   "execution_count": null,
   "id": "8f0dbb08-be95-452b-a2fd-195f0c8fab63",
   "metadata": {},
   "outputs": [],
   "source": []
  },
  {
   "cell_type": "code",
   "execution_count": null,
   "id": "f04977f4-47a3-4a06-b2ea-cb2ca475a79b",
   "metadata": {},
   "outputs": [],
   "source": []
  }
 ],
 "metadata": {
  "kernelspec": {
   "display_name": "Python 3 (ipykernel)",
   "language": "python",
   "name": "python3"
  },
  "language_info": {
   "codemirror_mode": {
    "name": "ipython",
    "version": 3
   },
   "file_extension": ".py",
   "mimetype": "text/x-python",
   "name": "python",
   "nbconvert_exporter": "python",
   "pygments_lexer": "ipython3",
   "version": "3.12.7"
  }
 },
 "nbformat": 4,
 "nbformat_minor": 5
}
